{
 "cells": [
  {
   "cell_type": "markdown",
   "metadata": {
    "id": "lw4sWE7-3b4C"
   },
   "source": [
    "# Bell States\n",
    "\n",
    "+ little qubizer chapter 6\n",
    "+ https://quantumcomputinguk.org/tutorials/introduction-to-bell-states"
   ]
  },
  {
   "cell_type": "code",
   "execution_count": null,
   "metadata": {
    "colab": {
     "base_uri": "https://localhost:8080/"
    },
    "id": "mA5Jzlyn1RfB",
    "outputId": "1546cc95-7de6-4d5b-eb1a-2109c9b1120d"
   },
   "outputs": [],
   "source": [
    "#%%capture\n",
    "!pip install pylatexenc qiskit mistkit"
   ]
  },
  {
   "cell_type": "code",
   "execution_count": null,
   "metadata": {
    "colab": {
     "base_uri": "https://localhost:8080/"
    },
    "id": "Pp5fgnGN7nmQ",
    "outputId": "e0c2d040-f015-4af6-d21f-882caa20e8bb"
   },
   "outputs": [],
   "source": [
    "# library\n",
    "import qiskit\n",
    "import mistkit\n",
    "from qiskit import QuantumCircuit\n",
    "from qiskit.primitives import StatevectorSampler\n",
    "from qiskit.quantum_info import Operator, Statevector, DensityMatrix\n",
    "from qiskit.visualization import plot_histogram\n",
    "\n",
    "print('qiskit version:', qiskit.__version__)"
   ]
  },
  {
   "cell_type": "markdown",
   "metadata": {
    "id": "X2RLkFz5YqKr"
   },
   "source": [
    "## 1. map problem to circuit"
   ]
  },
  {
   "cell_type": "markdown",
   "metadata": {
    "id": "RTmL8LdVyBfk"
   },
   "source": [
    "\n",
    "### bell state 1: map problem to circuit {00, 11}"
   ]
  },
  {
   "cell_type": "code",
   "execution_count": null,
   "metadata": {
    "colab": {
     "base_uri": "https://localhost:8080/",
     "height": 255
    },
    "id": "79XSTFBT1uFi",
    "outputId": "4fa0dfbe-172b-4d80-ba62-a8684b027c28"
   },
   "outputs": [],
   "source": [
    "# first bell state circuit  {00, 11}\n",
    "qc_bell1 = QuantumCircuit(2,2)\n",
    "qc_bell1.h(0)\n",
    "qc_bell1.cx(0,1)\n",
    "\n",
    "# save befor measuring\n",
    "op_bell1 = Operator.from_circuit(qc_bell1)\n",
    "sv_bell1 = Statevector.from_instruction(qc_bell1)\n",
    "dm_bell1 = DensityMatrix.from_instruction(qc_bell1)\n",
    "\n",
    "# measurement\n",
    "#qc_bell1.measure_all()\n",
    "qc_bell1.measure(range(2), range(2))\n",
    "\n",
    "# plot\n",
    "qc_bell1.draw(output='mpl', reverse_bits=True)"
   ]
  },
  {
   "cell_type": "code",
   "execution_count": null,
   "metadata": {
    "colab": {
     "base_uri": "https://localhost:8080/",
     "height": 112
    },
    "id": "_eFlqizINi7i",
    "outputId": "d4cf8ba9-3688-4eb6-cf84-3578ba40324e"
   },
   "outputs": [],
   "source": [
    "# unitary matrix from the circuit (kronecker product)\n",
    "op_bell1.draw(output='latex')"
   ]
  },
  {
   "cell_type": "code",
   "execution_count": null,
   "metadata": {
    "colab": {
     "base_uri": "https://localhost:8080/",
     "height": 75
    },
    "id": "ci5NID_BGe0w",
    "outputId": "67bff298-a404-44fb-d483-60893dd1549f"
   },
   "outputs": [],
   "source": [
    "# state vector\n",
    "a_sv = sv_bell1.data.copy()\n",
    "a_sv.shape = sv_bell1.dims()\n",
    "print(a_sv)\n",
    "sv_bell1.draw(output='latex')"
   ]
  },
  {
   "cell_type": "code",
   "execution_count": null,
   "metadata": {
    "colab": {
     "base_uri": "https://localhost:8080/",
     "height": 116
    },
    "id": "otaJ1fu1OM_i",
    "outputId": "eceee335-0ae4-49c5-daaa-8f1b9cf783dc"
   },
   "outputs": [],
   "source": [
    "# density matrix\n",
    "print(dm_bell1.data.flatten().sum())\n",
    "dm_bell1.draw('latex')\n",
    "#dm_bell1.draw('city')\n",
    "#dm_bell1.draw('hinton')\n",
    "#dm_bell1.draw('paulivec')\n",
    "#dm_bell1.draw('qsphere')\n",
    "#dm_bell1.draw('bloch')"
   ]
  },
  {
   "cell_type": "code",
   "execution_count": null,
   "metadata": {
    "colab": {
     "base_uri": "https://localhost:8080/",
     "height": 787
    },
    "id": "btdxg-UTQRLv",
    "outputId": "ab64b102-5114-4d15-fe1a-161d3b722813"
   },
   "outputs": [],
   "source": [
    "dm_bell1.draw('city')"
   ]
  },
  {
   "cell_type": "markdown",
   "metadata": {
    "id": "EHD0kK1ERRxl"
   },
   "source": [
    "### bell state 2: map problem to circuit {00,-11}"
   ]
  },
  {
   "cell_type": "code",
   "execution_count": null,
   "metadata": {
    "colab": {
     "base_uri": "https://localhost:8080/",
     "height": 255
    },
    "id": "DxarnTUDaU61",
    "outputId": "c3992983-e092-4e37-dbf6-7ca7f1120f8a"
   },
   "outputs": [],
   "source": [
    "# second bell state circuit {00,-11}\n",
    "qc_bell2 = QuantumCircuit(2, 2)\n",
    "qc_bell2.x(0)\n",
    "qc_bell2.h(0)\n",
    "qc_bell2.cx(0,1)\n",
    "\n",
    "# save befor measuring\n",
    "op_bell2 = Operator.from_circuit(qc_bell2)\n",
    "sv_bell2 = Statevector.from_instruction(qc_bell2)\n",
    "dm_bell2 = DensityMatrix.from_instruction(qc_bell2)\n",
    "\n",
    "# measurement\n",
    "#qc_bell2.measure_all()\n",
    "qc_bell2.measure(range(2), range(2))\n",
    "\n",
    "# plot\n",
    "qc_bell2.draw(output='mpl', reverse_bits=True)"
   ]
  },
  {
   "cell_type": "code",
   "execution_count": null,
   "metadata": {
    "colab": {
     "base_uri": "https://localhost:8080/",
     "height": 112
    },
    "id": "cQ5luX6xQO4v",
    "outputId": "6108f764-974a-4d47-b3e8-5e1cb343b4c3"
   },
   "outputs": [],
   "source": [
    "# unitary matrix from the circuit\n",
    "op_bell2.draw(output='latex')"
   ]
  },
  {
   "cell_type": "code",
   "execution_count": null,
   "metadata": {
    "colab": {
     "base_uri": "https://localhost:8080/",
     "height": 75
    },
    "id": "yo5jyNP--Mql",
    "outputId": "0868d5e2-30d0-4336-b96d-7cbd2e00f1df"
   },
   "outputs": [],
   "source": [
    "# state vector\n",
    "a_sv = sv_bell2.data.copy()\n",
    "a_sv.shape = sv_bell2.dims()\n",
    "print(a_sv)\n",
    "sv_bell2.draw(output='latex')"
   ]
  },
  {
   "cell_type": "code",
   "execution_count": null,
   "metadata": {
    "colab": {
     "base_uri": "https://localhost:8080/",
     "height": 203
    },
    "id": "Bu70jx2yY0IY",
    "outputId": "8cdf758d-dd18-4f93-c6ca-a8453f6a8be5"
   },
   "outputs": [],
   "source": [
    "# density matrix\n",
    "print(dm_bell2.data.flatten().sum())\n",
    "print(dm_bell2.draw('repr'))\n",
    "dm_bell2.draw('latex')\n",
    "#dm_bell2.draw('city')\n",
    "#dm_bell2.draw('hinton')\n",
    "#dm_bell2.draw('paulivec')\n",
    "#dm_bell2.draw('qsphere')\n",
    "#dm_bell2.draw('bloch')"
   ]
  },
  {
   "cell_type": "code",
   "execution_count": null,
   "metadata": {
    "colab": {
     "base_uri": "https://localhost:8080/",
     "height": 787
    },
    "id": "TmaIaSYLcwp2",
    "outputId": "cc947770-f34a-47b3-b897-982a223f23d5"
   },
   "outputs": [],
   "source": [
    "dm_bell2.draw('city')"
   ]
  },
  {
   "cell_type": "markdown",
   "metadata": {
    "id": "0zSIf-BHSk1U"
   },
   "source": [
    "### bell state 3: map problem to circuit {01,10}"
   ]
  },
  {
   "cell_type": "code",
   "execution_count": null,
   "metadata": {
    "colab": {
     "base_uri": "https://localhost:8080/",
     "height": 255
    },
    "id": "vHJU0M3oSuZG",
    "outputId": "36fc7176-0e17-4573-8f14-d0c55f94ca9d"
   },
   "outputs": [],
   "source": [
    "# third bell state circuit {01,10}\n",
    "qc_bell3 = QuantumCircuit(2, 2)\n",
    "qc_bell3.h(0)\n",
    "qc_bell3.x(1)\n",
    "qc_bell3.cx(0,1)\n",
    "\n",
    "# save befor measuring\n",
    "op_bell3 = Operator.from_circuit(qc_bell3)\n",
    "sv_bell3 = Statevector.from_instruction(qc_bell3)\n",
    "dm_bell3 = DensityMatrix.from_instruction(qc_bell3)\n",
    "\n",
    "# measurement\n",
    "#qc_bell3.measure_all()\n",
    "qc_bell3.measure(range(2), range(2))\n",
    "\n",
    "# plot\n",
    "qc_bell3.draw(output='mpl', reverse_bits=True)"
   ]
  },
  {
   "cell_type": "code",
   "execution_count": null,
   "metadata": {
    "colab": {
     "base_uri": "https://localhost:8080/",
     "height": 112
    },
    "id": "gyG7AsKMSj0s",
    "outputId": "3eeb1818-1abf-4835-8c90-e3a8ad2f1507"
   },
   "outputs": [],
   "source": [
    "# unitary matrix form the circuit\n",
    "op_bell3.draw(output='latex')"
   ]
  },
  {
   "cell_type": "code",
   "execution_count": null,
   "metadata": {
    "colab": {
     "base_uri": "https://localhost:8080/",
     "height": 75
    },
    "id": "_2Cslt3lednj",
    "outputId": "d3c33521-9774-4c8c-cf62-c730cd50cbc0"
   },
   "outputs": [],
   "source": [
    "# state vector\n",
    "a_sv = sv_bell3.data.copy()\n",
    "a_sv.shape = sv_bell3.dims()\n",
    "print(a_sv)\n",
    "sv_bell3.draw(output='latex')"
   ]
  },
  {
   "cell_type": "code",
   "execution_count": null,
   "metadata": {
    "colab": {
     "base_uri": "https://localhost:8080/",
     "height": 203
    },
    "id": "iYHqP2ztZpQK",
    "outputId": "44b72d7a-7fa2-44da-eaea-434b149d3fdd"
   },
   "outputs": [],
   "source": [
    "# density matrix\n",
    "print(sum(dm_bell3.data.flatten()))\n",
    "print(dm_bell3.draw('repr'))\n",
    "dm_bell3.draw('latex')\n",
    "#dm_bell3.draw('city')\n",
    "#dm_bell3.draw('hinton')\n",
    "#dm_bell3.draw('paulivec')\n",
    "#dm_bell3.draw('qsphere')\n",
    "#dm_bell3.draw('bloch')"
   ]
  },
  {
   "cell_type": "code",
   "execution_count": null,
   "metadata": {
    "colab": {
     "base_uri": "https://localhost:8080/",
     "height": 787
    },
    "id": "Xx2agUPkfSmd",
    "outputId": "e65eb98e-bbd1-4537-ae3e-e711a79e715e"
   },
   "outputs": [],
   "source": [
    "dm_bell3.draw('city')"
   ]
  },
  {
   "cell_type": "markdown",
   "metadata": {
    "id": "tdwNXYBDSuu3"
   },
   "source": [
    "### bell state 4: map problem to circuit {01,-10}"
   ]
  },
  {
   "cell_type": "code",
   "execution_count": null,
   "metadata": {
    "colab": {
     "base_uri": "https://localhost:8080/",
     "height": 255
    },
    "id": "E6lFdZVjcdAk",
    "outputId": "98820338-b579-4846-e6b2-5bab9a9f08e9"
   },
   "outputs": [],
   "source": [
    "# third bell state circuit {01,-10}\n",
    "qc_bell4 = QuantumCircuit(2, 2)\n",
    "qc_bell4.h(0)\n",
    "qc_bell4.z(0)\n",
    "qc_bell4.x(1)\n",
    "qc_bell4.z(1)\n",
    "qc_bell4.cx(0,1)\n",
    "\n",
    "# save befor measuring\n",
    "op_bell4 = Operator.from_circuit(qc_bell4)\n",
    "sv_bell4 = Statevector.from_instruction(qc_bell4)\n",
    "dm_bell4 = DensityMatrix.from_instruction(qc_bell4)\n",
    "\n",
    "# measurement\n",
    "#qc_bell4.measure_all()\n",
    "qc_bell4.measure(range(2), range(2))\n",
    "\n",
    "# plot\n",
    "qc_bell4.draw(output='mpl', reverse_bits=True)"
   ]
  },
  {
   "cell_type": "code",
   "execution_count": null,
   "metadata": {
    "colab": {
     "base_uri": "https://localhost:8080/",
     "height": 112
    },
    "id": "48ztpVqNVhf6",
    "outputId": "85d62943-40b4-4383-a9a2-d535eb7b6141"
   },
   "outputs": [],
   "source": [
    "# unitary matrix from the circuit\n",
    "op_bell4.draw(output='latex')"
   ]
  },
  {
   "cell_type": "code",
   "execution_count": null,
   "metadata": {
    "colab": {
     "base_uri": "https://localhost:8080/",
     "height": 75
    },
    "id": "4y2ARt3rVhjH",
    "outputId": "f756122e-2e78-4f2a-a9ee-546b2048a1cb"
   },
   "outputs": [],
   "source": [
    "# state vector\n",
    "a_sv = sv_bell4.data.copy()\n",
    "a_sv.shape = sv_bell4.dims()\n",
    "print(a_sv)\n",
    "sv_bell4.draw(output='latex')"
   ]
  },
  {
   "cell_type": "code",
   "execution_count": null,
   "metadata": {
    "colab": {
     "base_uri": "https://localhost:8080/",
     "height": 203
    },
    "id": "-q6TGv93Vhm-",
    "outputId": "480c991d-0d4f-4461-d559-22678e6b511a"
   },
   "outputs": [],
   "source": [
    "# density matrix\n",
    "print(sum(dm_bell4.data.flatten()))\n",
    "print(dm_bell4.draw('repr'))\n",
    "dm_bell4.draw('latex')\n",
    "#dm_bell4.draw('city')\n",
    "#dm_bell4.draw('hinton')\n",
    "#dm_bell4.draw('paulivec')\n",
    "#dm_bell4.draw('qsphere')\n",
    "#dm_bell4.draw('bloch')"
   ]
  },
  {
   "cell_type": "code",
   "execution_count": null,
   "metadata": {
    "colab": {
     "base_uri": "https://localhost:8080/",
     "height": 787
    },
    "id": "_uWquWJqVhq1",
    "outputId": "563ba7de-a5bc-4697-d410-79fc6a1a5554"
   },
   "outputs": [],
   "source": [
    "dm_bell4.draw('city')"
   ]
  },
  {
   "cell_type": "markdown",
   "metadata": {
    "id": "UjemE1QpH8RR"
   },
   "source": [
    "## 2. optimize for backend (qiskit.primitives)\n",
    "\n",
    "NOP."
   ]
  },
  {
   "cell_type": "markdown",
   "metadata": {
    "id": "VR7_P4y8ZIZ9"
   },
   "source": [
    "## 3. execute on backend (qiskit.primitives)"
   ]
  },
  {
   "cell_type": "code",
   "execution_count": null,
   "metadata": {
    "colab": {
     "base_uri": "https://localhost:8080/"
    },
    "id": "AIHJspY8N2KE",
    "outputId": "f6d23299-1045-40a4-eb0c-670560f69e3d"
   },
   "outputs": [],
   "source": [
    "# bell state 1: execute on backend {00, 11}\n",
    "sampler = StatevectorSampler()\n",
    "jbell1 = sampler.run([qc_bell1], shots=1024)  # (qc, observable, parameter)\n",
    "\n",
    "\n",
    "#jbell1.job_id()\n",
    "#jbell1.status()\n",
    "jbell1.result()\n",
    "#jbell1.result().metadata\n",
    "#jbell1.result()[0].metadata\n",
    "#jbell1.result()[0].metadata['shots']\n",
    "\n",
    "#jbell1.result()[0].data.c  # measurement values\n",
    "#jbell1.result()[0].data.c.num_bits\n",
    "#jbell1.result()[0].data.c.num_shots\n",
    "#jbell1.result()[0].data.c.get_counts()"
   ]
  },
  {
   "cell_type": "code",
   "execution_count": null,
   "metadata": {
    "colab": {
     "base_uri": "https://localhost:8080/"
    },
    "id": "jvX7Y8OKaVb-",
    "outputId": "73799d8d-1588-48db-d8b5-7e945fcb9b5e"
   },
   "outputs": [],
   "source": [
    "# bell state 2: execute on backend {00, -11}\n",
    "sampler = StatevectorSampler()\n",
    "jbell2 = sampler.run([qc_bell2], shots=1024)  # (qc, observable, parameter)\n",
    "\n",
    "\n",
    "#jbell2.job_id()\n",
    "#jbell2.status()\n",
    "jbell2.result()\n",
    "#jbell2.result().metadata\n",
    "#jbell2.result()[0].metadata\n",
    "#jbell2.result()[0].metadata['shots']\n",
    "\n",
    "#jbell2.result()[0].data.c  # measurement values\n",
    "#jbell2.result()[0].data.c.num_bits\n",
    "#jbell2.result()[0].data.c.num_shots\n",
    "#jbell2.result()[0].data.c.get_counts()"
   ]
  },
  {
   "cell_type": "code",
   "execution_count": null,
   "metadata": {
    "colab": {
     "base_uri": "https://localhost:8080/"
    },
    "id": "vuJDo6ZH_m_x",
    "outputId": "b763df97-be13-4603-e06b-498468171e36"
   },
   "outputs": [],
   "source": [
    "# bell state 3: execute on backend {01, 10}\n",
    "sampler = StatevectorSampler()\n",
    "jbell3 = sampler.run([qc_bell3], shots=1024)  # (qc, observable, parameter)\n",
    "\n",
    "\n",
    "#jbell3.job_id()\n",
    "#jbell3.status()\n",
    "jbell3.result()\n",
    "#jbell3.result().metadata\n",
    "#jbell3.result()[0].metadata\n",
    "#jbell3.result()[0].metadata['shots']\n",
    "\n",
    "#jbell3.result()[0].data.c  # measurement values\n",
    "#jbell3.result()[0].data.c.num_bits\n",
    "#jbell3.result()[0].data.c.num_shots\n",
    "#jbell3.result()[0].data.c.get_counts()"
   ]
  },
  {
   "cell_type": "code",
   "execution_count": null,
   "metadata": {
    "colab": {
     "base_uri": "https://localhost:8080/"
    },
    "id": "rGTbZOozACNI",
    "outputId": "d403d196-df51-4f4f-b73c-a57d758761f7"
   },
   "outputs": [],
   "source": [
    "# bell state 4: execute on backend {01, -10}\n",
    "sampler = StatevectorSampler()\n",
    "jbell4 = sampler.run([qc_bell4], shots=1024)  # (qc, observable, parameter)\n",
    "\n",
    "\n",
    "#jbell4.job_id()\n",
    "#jbell4.status()\n",
    "jbell4.result()\n",
    "#jbell4.result().metadata\n",
    "#jbell4.result()[0].metadata\n",
    "#jbell4.result()[0].metadata['shots']\n",
    "\n",
    "#jbell4.result()[0].data.c  # measurement values\n",
    "#jbell4.result()[0].data.c.num_bits\n",
    "#jbell4.result()[0].data.c.num_shots\n",
    "#jbell4.result()[0].data.c.get_counts()"
   ]
  },
  {
   "cell_type": "markdown",
   "metadata": {
    "id": "dCcX1uaQZYfT"
   },
   "source": [
    "## 4. post processing results"
   ]
  },
  {
   "cell_type": "code",
   "execution_count": null,
   "metadata": {
    "colab": {
     "base_uri": "https://localhost:8080/",
     "height": 460
    },
    "id": "kdrn3qgTZZJs",
    "outputId": "ece46e98-0dda-474e-ca7e-6bb993bbb2ae"
   },
   "outputs": [],
   "source": [
    "plot_histogram(jbell1.result()[0].data.c.get_counts(), title='Bell State 1')"
   ]
  },
  {
   "cell_type": "code",
   "execution_count": null,
   "metadata": {
    "colab": {
     "base_uri": "https://localhost:8080/",
     "height": 460
    },
    "id": "ElBw48LA-5mo",
    "outputId": "91b4abf1-9b19-4077-a049-059f23b70368"
   },
   "outputs": [],
   "source": [
    "plot_histogram(jbell2.result()[0].data.c.get_counts(), title='Bell State 2')"
   ]
  },
  {
   "cell_type": "code",
   "execution_count": null,
   "metadata": {
    "colab": {
     "base_uri": "https://localhost:8080/",
     "height": 460
    },
    "id": "DMDHMK0nAdY1",
    "outputId": "45a25334-170a-4334-deda-f89624e8a2d6"
   },
   "outputs": [],
   "source": [
    "plot_histogram(jbell3.result()[0].data.c.get_counts(), title='Bell State 3')"
   ]
  },
  {
   "cell_type": "code",
   "execution_count": null,
   "metadata": {
    "colab": {
     "base_uri": "https://localhost:8080/",
     "height": 460
    },
    "id": "QS7T7ed8Adc_",
    "outputId": "c6a23ca7-3ddf-460e-d8c8-86a4780750a3"
   },
   "outputs": [],
   "source": [
    "plot_histogram(jbell4.result()[0].data.c.get_counts(), title='Bell State 4')"
   ]
  },
  {
   "cell_type": "code",
   "execution_count": null,
   "metadata": {
    "id": "F_nd2wsWArOy"
   },
   "outputs": [],
   "source": []
  }
 ],
 "metadata": {
  "colab": {
   "provenance": []
  },
  "kernelspec": {
   "display_name": "Python 3",
   "name": "python3"
  },
  "language_info": {
   "name": "python"
  }
 },
 "nbformat": 4,
 "nbformat_minor": 0
}
